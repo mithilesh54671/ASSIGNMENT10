{
 "cells": [
  {
   "cell_type": "markdown",
   "id": "ae2bb47c-5bcc-4796-97ef-a6eb4944f791",
   "metadata": {},
   "source": [
    "Q1. What is multithreading in python? hy is it used? Name the module used to handle threads in python."
   ]
  },
  {
   "cell_type": "markdown",
   "id": "152d749d-24f0-4197-9ab5-2c125c5d4899",
   "metadata": {},
   "source": [
    "Q2. why threading module used? write the use of the following functions:\n",
    "1. activeCount()\n",
    "2. currentThread()\n",
    "3. enumerate()"
   ]
  },
  {
   "cell_type": "code",
   "execution_count": 12,
   "id": "b52fae80-1851-4f32-a844-abc319121253",
   "metadata": {},
   "outputs": [
    {
     "name": "stdout",
     "output_type": "stream",
     "text": [
      "START: Current active thread count:  8\n",
      "Thread-2: Number of active threads: 10\n",
      "Thread 2 Value: 200\n",
      "Thread-1: Number of active threads: 10\n",
      "Thread 1 Value: 100\n",
      "Thread-3: Number of active threads: 9\n",
      "Thread 3 Value: 300\n"
     ]
    }
   ],
   "source": [
    "# Program to count active threads\n",
    "# active_count() method from Threading Module\n",
    "import threading\n",
    "import time\n",
    "# Methods for three threads..\n",
    "def thread1_Subroutine(i):\n",
    "    time.sleep(2)\n",
    "    print(\"Thread-1: Number of active threads:\", threading.active_count())\n",
    "    print('Thread 1 Value:', i)\n",
    "\n",
    "def thread2_Subroutine(i):\n",
    "    print(\"Thread-2: Number of active threads:\", threading.active_count())\n",
    "    print('Thread 2 Value:', i)\n",
    "    \n",
    "def thread3_Subroutine(i):\n",
    "    time.sleep(5)\n",
    "    print(\"Thread-3: Number of active threads:\", threading.active_count())\n",
    "    print(\"Thread 3 Value:\", i)\n",
    "    \n",
    "# Creating sample threads\n",
    "thread1 = threading.Thread(target=thread1_Subroutine, args=(100,), name=\"Thread1\")\n",
    "thread2 = threading.Thread(target=thread2_Subroutine, args=(200,), name=\"Thread2\")\n",
    "thread3 = threading.Thread(target=thread3_Subroutine, args=(300,), name=\"Thread3\")\n",
    "print(\"START: Current active thread count: \", threading.active_count())\n",
    "# Calling start() method to initialize execution\n",
    "thread1.start()\n",
    "thread2.start()\n",
    "thread3.start()\n",
    "thread3.join() # Wait for thread-3 to join."
   ]
  },
  {
   "cell_type": "markdown",
   "id": "f3a4138e-36d2-48c3-aa43-f2bf213fa0d2",
   "metadata": {},
   "source": [
    "Q3. Explain the following functions:\n",
    "1. run\n",
    "2. start\n",
    "3. join\n",
    "4. isAlive"
   ]
  },
  {
   "cell_type": "code",
   "execution_count": 17,
   "id": "a315faf3-a614-4430-a813-1c541900ba08",
   "metadata": {},
   "outputs": [
    {
     "name": "stdout",
     "output_type": "stream",
     "text": [
      "The Child Thread sleep count is 1\n",
      "Main thread is starting to wait for 5 seconds\n",
      "The Child Thread sleep count is 2\n",
      "Main thread says : I cant't wait for more than 5 seconds for the child thread;\n",
      " Will ask child thread to stop\n",
      "Asked to stop\n",
      "A Child Thread is exiting\n",
      "Main thread says : Now I do something else to compensatethe child thread task and exit\n",
      "Main thread is exiting\n"
     ]
    }
   ],
   "source": [
    "from threading import Thread\n",
    "from threading import Event\n",
    "import time\n",
    "   \n",
    "  \n",
    "class Connection(Thread):\n",
    "   \n",
    "    StopEvent = 0\n",
    "      \n",
    "    def __init__(self,args):\n",
    "        Thread.__init__(self)\n",
    "        self.StopEvent = args\n",
    "  \n",
    "    # The run method is overridden to define \n",
    "    # the thread body \n",
    "    def run(self):\n",
    "   \n",
    "        for i in range(1,10):\n",
    "            if(self.StopEvent.wait(0)):\n",
    "                print (\"Asked to stop\")\n",
    "                break;\n",
    "   \n",
    "            print(\"The Child Thread sleep count is %d\"%(i))\n",
    "            time.sleep(3)\n",
    "          \n",
    "        print (\"A Child Thread is exiting\")\n",
    "  \n",
    "Stop = Event()\n",
    "Connection = Connection(Stop)           \n",
    "Connection.start()\n",
    "print(\"Main thread is starting to wait for 5 seconds\")\n",
    "   \n",
    "Connection.join(5) \n",
    "print(\"Main thread says : I cant't wait for more than 5 \\\n",
    "seconds for the child thread;\\n Will ask child thread to stop\")\n",
    "   \n",
    "# ask(signal) the child thread to stop\n",
    "Stop.set()\n",
    "   \n",
    "# wait for the child thread to stop\n",
    "Connection.join()\n",
    "   \n",
    "print(\"Main thread says : Now I do something else to compensate\\\n",
    "the child thread task and exit\")\n",
    "print(\"Main thread is exiting\")"
   ]
  },
  {
   "cell_type": "markdown",
   "id": "05041da6-138e-400d-b162-a6376ff877a9",
   "metadata": {},
   "source": [
    "Q4. Write a python program to create two threads. Thread one must print the list of squares and thread\n",
    "two must print the list of cubes"
   ]
  },
  {
   "cell_type": "code",
   "execution_count": 18,
   "id": "b8a77f67-9a91-48f4-be19-73426ab61023",
   "metadata": {},
   "outputs": [
    {
     "name": "stdout",
     "output_type": "stream",
     "text": [
      "Square: 100\n",
      "Cube: 1000\n",
      "Done!\n"
     ]
    }
   ],
   "source": [
    "# Python program to illustrate the concept\n",
    "# of threading\n",
    "# importing the threading module\n",
    "import threading\n",
    " \n",
    " \n",
    "def print_cube(num):\n",
    "    # function to print cube of given num\n",
    "    print(\"Cube: {}\" .format(num * num * num))\n",
    " \n",
    " \n",
    "def print_square(num):\n",
    "    # function to print square of given num\n",
    "    print(\"Square: {}\" .format(num * num))\n",
    " \n",
    " \n",
    "if __name__ ==\"__main__\":\n",
    "    # creating thread\n",
    "    t1 = threading.Thread(target=print_square, args=(10,))\n",
    "    t2 = threading.Thread(target=print_cube, args=(10,))\n",
    " \n",
    "    # starting thread 1\n",
    "    t1.start()\n",
    "    # starting thread 2\n",
    "    t2.start()\n",
    " \n",
    "    # wait until thread 1 is completely executed\n",
    "    t1.join()\n",
    "    # wait until thread 2 is completely executed\n",
    "    t2.join()\n",
    " \n",
    "    # both threads completely executed\n",
    "    print(\"Done!\")"
   ]
  },
  {
   "cell_type": "markdown",
   "id": "0a31bb88-cb5d-4f97-bbba-03de0a1bf556",
   "metadata": {},
   "source": [
    "Q5. State advantages and disadvantages of multithreading"
   ]
  },
  {
   "cell_type": "markdown",
   "id": "1d3a1463-b0bc-4f81-9ec9-300ae8bfe423",
   "metadata": {},
   "source": [
    "Advantage\n",
    "#Enhanced performance by decreased development time.\n",
    "#Simplified and streamlined program coding.\n",
    "#Improvised GUI responsiveness.\n",
    "#Simultaneous and parallelized occurrence of tasks.\n",
    "#Better use of cache storage by utilization of resources.\n",
    "#Decreased cost of maintenance.\n",
    "\n",
    "Disadvantage\n",
    "#Increases the complexity of the program.\n",
    "#Synchronization of shared resources (objects, data) is necessary.\n",
    "#Difficult to debug unpredictable results.\n",
    "#Constructing and synchronizing threads is CPU/memory intensive"
   ]
  },
  {
   "cell_type": "markdown",
   "id": "b9c400af-62bd-4c2f-ab45-e9abd7a29966",
   "metadata": {},
   "source": [
    "Q6. Explain deadlocks and race conditions."
   ]
  },
  {
   "cell_type": "markdown",
   "id": "23dbe306-e82a-4320-99fe-b1894a8b0eef",
   "metadata": {},
   "source": [
    "#Race Condition And Deadlock\n",
    "A race condition occurs when two threads use the same variable at a given time. Deadlock exists when two threads seek one lock simultaneously. This situation will stop both threads from processing or executing the functions."
   ]
  },
  {
   "cell_type": "code",
   "execution_count": 19,
   "id": "854cf268-daa5-4067-a408-ee1653bdf8d3",
   "metadata": {},
   "outputs": [
    {
     "name": "stdout",
     "output_type": "stream",
     "text": [
      "counter=10\n",
      "counter=20\n",
      "The final counter is 20\n"
     ]
    }
   ],
   "source": [
    "from threading import Thread\n",
    "from time import sleep\n",
    "\n",
    "\n",
    "counter = 0\n",
    "\n",
    "def increase(by):\n",
    "    global counter\n",
    "\n",
    "    local_counter = counter\n",
    "    local_counter += by\n",
    "\n",
    "    sleep(0.1)\n",
    "\n",
    "    counter = local_counter\n",
    "    print(f'counter={counter}')\n",
    "\n",
    "\n",
    "# create threads\n",
    "t1 = Thread(target=increase, args=(10,))\n",
    "t2 = Thread(target=increase, args=(20,))\n",
    "\n",
    "# start the threads\n",
    "t1.start()\n",
    "t2.start()\n",
    "\n",
    "\n",
    "# wait for the threads to complete\n",
    "t1.join()\n",
    "t2.join()\n",
    "\n",
    "\n",
    "print(f'The final counter is {counter}')"
   ]
  },
  {
   "cell_type": "code",
   "execution_count": null,
   "id": "5a7445c8-d4e7-416a-8bed-7a26eba28b1b",
   "metadata": {},
   "outputs": [],
   "source": []
  }
 ],
 "metadata": {
  "kernelspec": {
   "display_name": "Python 3 (ipykernel)",
   "language": "python",
   "name": "python3"
  },
  "language_info": {
   "codemirror_mode": {
    "name": "ipython",
    "version": 3
   },
   "file_extension": ".py",
   "mimetype": "text/x-python",
   "name": "python",
   "nbconvert_exporter": "python",
   "pygments_lexer": "ipython3",
   "version": "3.10.8"
  }
 },
 "nbformat": 4,
 "nbformat_minor": 5
}
